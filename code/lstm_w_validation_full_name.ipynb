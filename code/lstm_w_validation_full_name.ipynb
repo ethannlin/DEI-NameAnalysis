{
  "cells": [
    {
      "cell_type": "code",
      "execution_count": null,
      "metadata": {
        "colab": {
          "base_uri": "https://localhost:8080/"
        },
        "id": "Jm89YvWkSyNW",
        "outputId": "60e8a179-7105-426b-984a-d4216864a91d"
      },
      "outputs": [
        {
          "name": "stdout",
          "output_type": "stream",
          "text": [
            "Requirement already satisfied: fastprogress in /usr/local/lib/python3.10/dist-packages (1.0.3)\n"
          ]
        }
      ],
      "source": [
        "# progress bar\n",
        "!pip install fastprogress"
      ]
    },
    {
      "cell_type": "code",
      "execution_count": null,
      "metadata": {
        "colab": {
          "base_uri": "https://localhost:8080/"
        },
        "id": "342it9V-tOfq",
        "outputId": "913658e0-f04e-4684-fe0f-94a45ded2659"
      },
      "outputs": [
        {
          "name": "stdout",
          "output_type": "stream",
          "text": [
            "Mounted at /content/drive\n"
          ]
        }
      ],
      "source": [
        "from google.colab import drive\n",
        "drive.mount('/content/drive')"
      ]
    },
    {
      "cell_type": "code",
      "execution_count": null,
      "metadata": {
        "id": "salRs_5vtWCo"
      },
      "outputs": [],
      "source": [
        "from fastprogress import master_bar, progress_bar\n",
        "\n",
        "from sklearn.feature_extraction.text import CountVectorizer\n",
        "\n",
        "import pandas as pd\n",
        "import numpy as np\n",
        "\n",
        "import torch\n",
        "import torch.nn as nn\n",
        "from torch.utils.data import Dataset, DataLoader"
      ]
    },
    {
      "cell_type": "markdown",
      "metadata": {
        "id": "SGKm5-tXw-No"
      },
      "source": [
        "##### Data Preprocessing"
      ]
    },
    {
      "cell_type": "code",
      "execution_count": null,
      "metadata": {
        "id": "u4VJp36swz4T"
      },
      "outputs": [],
      "source": [
        "train_df = pd.read_csv('/content/drive/MyDrive/character_based_name_analysis/data/combined_train_full_name1.csv')\n",
        "val_df = pd.read_csv('/content/drive/MyDrive/character_based_name_analysis/data/combined_val_full_name1.csv')\n",
        "test_df = pd.read_csv('/content/drive/MyDrive/character_based_name_analysis/data/combined_test_full_name1.csv')"
      ]
    },
    {
      "cell_type": "code",
      "execution_count": null,
      "metadata": {
        "colab": {
          "base_uri": "https://localhost:8080/"
        },
        "id": "gqQdUFUq-xIi",
        "outputId": "9bfcb4e4-d8bf-4f3b-a73a-cae7ccbfc6a1"
      },
      "outputs": [
        {
          "name": "stdout",
          "output_type": "stream",
          "text": [
            "(15644774, 3)\n",
            "(1955596, 3)\n",
            "(1955598, 3)\n"
          ]
        }
      ],
      "source": [
        "print(train_df.shape)\n",
        "print(val_df.shape)\n",
        "print(test_df.shape)"
      ]
    },
    {
      "cell_type": "code",
      "execution_count": null,
      "metadata": {
        "colab": {
          "base_uri": "https://localhost:8080/",
          "height": 204
        },
        "id": "hHXUOx6M-0Pl",
        "outputId": "c33d3e58-522a-494a-d306-45f9ebee889b"
      },
      "outputs": [
        {
          "data": {
            "text/html": [
              "\n",
              "  <div id=\"df-eb904f66-735e-49d7-ba7b-6b4e9d739bba\" class=\"colab-df-container\">\n",
              "    <div>\n",
              "<style scoped>\n",
              "    .dataframe tbody tr th:only-of-type {\n",
              "        vertical-align: middle;\n",
              "    }\n",
              "\n",
              "    .dataframe tbody tr th {\n",
              "        vertical-align: top;\n",
              "    }\n",
              "\n",
              "    .dataframe thead th {\n",
              "        text-align: right;\n",
              "    }\n",
              "</style>\n",
              "<table border=\"1\" class=\"dataframe\">\n",
              "  <thead>\n",
              "    <tr style=\"text-align: right;\">\n",
              "      <th></th>\n",
              "      <th>full_name</th>\n",
              "      <th>race_code</th>\n",
              "      <th>race</th>\n",
              "    </tr>\n",
              "  </thead>\n",
              "  <tbody>\n",
              "    <tr>\n",
              "      <th>0</th>\n",
              "      <td>Charity Fuentes</td>\n",
              "      <td>1</td>\n",
              "      <td>other</td>\n",
              "    </tr>\n",
              "    <tr>\n",
              "      <th>1</th>\n",
              "      <td>Lavonne Howard</td>\n",
              "      <td>5</td>\n",
              "      <td>white</td>\n",
              "    </tr>\n",
              "    <tr>\n",
              "      <th>2</th>\n",
              "      <td>Merisney Espinosa</td>\n",
              "      <td>4</td>\n",
              "      <td>hisp</td>\n",
              "    </tr>\n",
              "    <tr>\n",
              "      <th>3</th>\n",
              "      <td>Mary Morrissette</td>\n",
              "      <td>5</td>\n",
              "      <td>white</td>\n",
              "    </tr>\n",
              "    <tr>\n",
              "      <th>4</th>\n",
              "      <td>Candice Pucci</td>\n",
              "      <td>5</td>\n",
              "      <td>white</td>\n",
              "    </tr>\n",
              "  </tbody>\n",
              "</table>\n",
              "</div>\n",
              "    <div class=\"colab-df-buttons\">\n",
              "\n",
              "  <div class=\"colab-df-container\">\n",
              "    <button class=\"colab-df-convert\" onclick=\"convertToInteractive('df-eb904f66-735e-49d7-ba7b-6b4e9d739bba')\"\n",
              "            title=\"Convert this dataframe to an interactive table.\"\n",
              "            style=\"display:none;\">\n",
              "\n",
              "  <svg xmlns=\"http://www.w3.org/2000/svg\" height=\"24px\" viewBox=\"0 -960 960 960\">\n",
              "    <path d=\"M120-120v-720h720v720H120Zm60-500h600v-160H180v160Zm220 220h160v-160H400v160Zm0 220h160v-160H400v160ZM180-400h160v-160H180v160Zm440 0h160v-160H620v160ZM180-180h160v-160H180v160Zm440 0h160v-160H620v160Z\"/>\n",
              "  </svg>\n",
              "    </button>\n",
              "\n",
              "  <style>\n",
              "    .colab-df-container {\n",
              "      display:flex;\n",
              "      gap: 12px;\n",
              "    }\n",
              "\n",
              "    .colab-df-convert {\n",
              "      background-color: #E8F0FE;\n",
              "      border: none;\n",
              "      border-radius: 50%;\n",
              "      cursor: pointer;\n",
              "      display: none;\n",
              "      fill: #1967D2;\n",
              "      height: 32px;\n",
              "      padding: 0 0 0 0;\n",
              "      width: 32px;\n",
              "    }\n",
              "\n",
              "    .colab-df-convert:hover {\n",
              "      background-color: #E2EBFA;\n",
              "      box-shadow: 0px 1px 2px rgba(60, 64, 67, 0.3), 0px 1px 3px 1px rgba(60, 64, 67, 0.15);\n",
              "      fill: #174EA6;\n",
              "    }\n",
              "\n",
              "    .colab-df-buttons div {\n",
              "      margin-bottom: 4px;\n",
              "    }\n",
              "\n",
              "    [theme=dark] .colab-df-convert {\n",
              "      background-color: #3B4455;\n",
              "      fill: #D2E3FC;\n",
              "    }\n",
              "\n",
              "    [theme=dark] .colab-df-convert:hover {\n",
              "      background-color: #434B5C;\n",
              "      box-shadow: 0px 1px 3px 1px rgba(0, 0, 0, 0.15);\n",
              "      filter: drop-shadow(0px 1px 2px rgba(0, 0, 0, 0.3));\n",
              "      fill: #FFFFFF;\n",
              "    }\n",
              "  </style>\n",
              "\n",
              "    <script>\n",
              "      const buttonEl =\n",
              "        document.querySelector('#df-eb904f66-735e-49d7-ba7b-6b4e9d739bba button.colab-df-convert');\n",
              "      buttonEl.style.display =\n",
              "        google.colab.kernel.accessAllowed ? 'block' : 'none';\n",
              "\n",
              "      async function convertToInteractive(key) {\n",
              "        const element = document.querySelector('#df-eb904f66-735e-49d7-ba7b-6b4e9d739bba');\n",
              "        const dataTable =\n",
              "          await google.colab.kernel.invokeFunction('convertToInteractive',\n",
              "                                                    [key], {});\n",
              "        if (!dataTable) return;\n",
              "\n",
              "        const docLinkHtml = 'Like what you see? Visit the ' +\n",
              "          '<a target=\"_blank\" href=https://colab.research.google.com/notebooks/data_table.ipynb>data table notebook</a>'\n",
              "          + ' to learn more about interactive tables.';\n",
              "        element.innerHTML = '';\n",
              "        dataTable['output_type'] = 'display_data';\n",
              "        await google.colab.output.renderOutput(dataTable, element);\n",
              "        const docLink = document.createElement('div');\n",
              "        docLink.innerHTML = docLinkHtml;\n",
              "        element.appendChild(docLink);\n",
              "      }\n",
              "    </script>\n",
              "  </div>\n",
              "\n",
              "\n",
              "<div id=\"df-01bcad72-4be7-4063-8a8f-81eb4f5d047c\">\n",
              "  <button class=\"colab-df-quickchart\" onclick=\"quickchart('df-01bcad72-4be7-4063-8a8f-81eb4f5d047c')\"\n",
              "            title=\"Suggest charts\"\n",
              "            style=\"display:none;\">\n",
              "\n",
              "<svg xmlns=\"http://www.w3.org/2000/svg\" height=\"24px\"viewBox=\"0 0 24 24\"\n",
              "     width=\"24px\">\n",
              "    <g>\n",
              "        <path d=\"M19 3H5c-1.1 0-2 .9-2 2v14c0 1.1.9 2 2 2h14c1.1 0 2-.9 2-2V5c0-1.1-.9-2-2-2zM9 17H7v-7h2v7zm4 0h-2V7h2v10zm4 0h-2v-4h2v4z\"/>\n",
              "    </g>\n",
              "</svg>\n",
              "  </button>\n",
              "\n",
              "<style>\n",
              "  .colab-df-quickchart {\n",
              "      --bg-color: #E8F0FE;\n",
              "      --fill-color: #1967D2;\n",
              "      --hover-bg-color: #E2EBFA;\n",
              "      --hover-fill-color: #174EA6;\n",
              "      --disabled-fill-color: #AAA;\n",
              "      --disabled-bg-color: #DDD;\n",
              "  }\n",
              "\n",
              "  [theme=dark] .colab-df-quickchart {\n",
              "      --bg-color: #3B4455;\n",
              "      --fill-color: #D2E3FC;\n",
              "      --hover-bg-color: #434B5C;\n",
              "      --hover-fill-color: #FFFFFF;\n",
              "      --disabled-bg-color: #3B4455;\n",
              "      --disabled-fill-color: #666;\n",
              "  }\n",
              "\n",
              "  .colab-df-quickchart {\n",
              "    background-color: var(--bg-color);\n",
              "    border: none;\n",
              "    border-radius: 50%;\n",
              "    cursor: pointer;\n",
              "    display: none;\n",
              "    fill: var(--fill-color);\n",
              "    height: 32px;\n",
              "    padding: 0;\n",
              "    width: 32px;\n",
              "  }\n",
              "\n",
              "  .colab-df-quickchart:hover {\n",
              "    background-color: var(--hover-bg-color);\n",
              "    box-shadow: 0 1px 2px rgba(60, 64, 67, 0.3), 0 1px 3px 1px rgba(60, 64, 67, 0.15);\n",
              "    fill: var(--button-hover-fill-color);\n",
              "  }\n",
              "\n",
              "  .colab-df-quickchart-complete:disabled,\n",
              "  .colab-df-quickchart-complete:disabled:hover {\n",
              "    background-color: var(--disabled-bg-color);\n",
              "    fill: var(--disabled-fill-color);\n",
              "    box-shadow: none;\n",
              "  }\n",
              "\n",
              "  .colab-df-spinner {\n",
              "    border: 2px solid var(--fill-color);\n",
              "    border-color: transparent;\n",
              "    border-bottom-color: var(--fill-color);\n",
              "    animation:\n",
              "      spin 1s steps(1) infinite;\n",
              "  }\n",
              "\n",
              "  @keyframes spin {\n",
              "    0% {\n",
              "      border-color: transparent;\n",
              "      border-bottom-color: var(--fill-color);\n",
              "      border-left-color: var(--fill-color);\n",
              "    }\n",
              "    20% {\n",
              "      border-color: transparent;\n",
              "      border-left-color: var(--fill-color);\n",
              "      border-top-color: var(--fill-color);\n",
              "    }\n",
              "    30% {\n",
              "      border-color: transparent;\n",
              "      border-left-color: var(--fill-color);\n",
              "      border-top-color: var(--fill-color);\n",
              "      border-right-color: var(--fill-color);\n",
              "    }\n",
              "    40% {\n",
              "      border-color: transparent;\n",
              "      border-right-color: var(--fill-color);\n",
              "      border-top-color: var(--fill-color);\n",
              "    }\n",
              "    60% {\n",
              "      border-color: transparent;\n",
              "      border-right-color: var(--fill-color);\n",
              "    }\n",
              "    80% {\n",
              "      border-color: transparent;\n",
              "      border-right-color: var(--fill-color);\n",
              "      border-bottom-color: var(--fill-color);\n",
              "    }\n",
              "    90% {\n",
              "      border-color: transparent;\n",
              "      border-bottom-color: var(--fill-color);\n",
              "    }\n",
              "  }\n",
              "</style>\n",
              "\n",
              "  <script>\n",
              "    async function quickchart(key) {\n",
              "      const quickchartButtonEl =\n",
              "        document.querySelector('#' + key + ' button');\n",
              "      quickchartButtonEl.disabled = true;  // To prevent multiple clicks.\n",
              "      quickchartButtonEl.classList.add('colab-df-spinner');\n",
              "      try {\n",
              "        const charts = await google.colab.kernel.invokeFunction(\n",
              "            'suggestCharts', [key], {});\n",
              "      } catch (error) {\n",
              "        console.error('Error during call to suggestCharts:', error);\n",
              "      }\n",
              "      quickchartButtonEl.classList.remove('colab-df-spinner');\n",
              "      quickchartButtonEl.classList.add('colab-df-quickchart-complete');\n",
              "    }\n",
              "    (() => {\n",
              "      let quickchartButtonEl =\n",
              "        document.querySelector('#df-01bcad72-4be7-4063-8a8f-81eb4f5d047c button');\n",
              "      quickchartButtonEl.style.display =\n",
              "        google.colab.kernel.accessAllowed ? 'block' : 'none';\n",
              "    })();\n",
              "  </script>\n",
              "</div>\n",
              "\n",
              "    </div>\n",
              "  </div>\n"
            ],
            "text/plain": [
              "           full_name  race_code   race\n",
              "0    Charity Fuentes          1  other\n",
              "1     Lavonne Howard          5  white\n",
              "2  Merisney Espinosa          4   hisp\n",
              "3   Mary Morrissette          5  white\n",
              "4      Candice Pucci          5  white"
            ]
          },
          "execution_count": 6,
          "metadata": {},
          "output_type": "execute_result"
        }
      ],
      "source": [
        "train_df.head()"
      ]
    },
    {
      "cell_type": "code",
      "execution_count": null,
      "metadata": {
        "id": "PxqGGS8S-2Jq"
      },
      "outputs": [],
      "source": [
        "char_vect = CountVectorizer(analyzer='char', lowercase=False)"
      ]
    },
    {
      "cell_type": "code",
      "execution_count": null,
      "metadata": {
        "colab": {
          "base_uri": "https://localhost:8080/"
        },
        "id": "xYxbVy5yAA7Y",
        "outputId": "0716440d-0764-4f72-b67f-162b917c0a75"
      },
      "outputs": [
        {
          "data": {
            "text/plain": [
              "<15644774x55 sparse matrix of type '<class 'numpy.int64'>'\n",
              "\twith 169804641 stored elements in Compressed Sparse Row format>"
            ]
          },
          "execution_count": 8,
          "metadata": {},
          "output_type": "execute_result"
        }
      ],
      "source": [
        "char_vect.fit_transform(train_df['full_name'])"
      ]
    },
    {
      "cell_type": "code",
      "execution_count": null,
      "metadata": {
        "colab": {
          "base_uri": "https://localhost:8080/"
        },
        "id": "yBsw0W0nBGit",
        "outputId": "8db13af8-1fe8-4e78-8900-5aa5886a9b57"
      },
      "outputs": [
        {
          "name": "stdout",
          "output_type": "stream",
          "text": [
            "[' ', \"'\", '-', 'A', 'B', 'C', 'D', 'E', 'F', 'G', 'H', 'I', 'J', 'K', 'L', 'M', 'N', 'O', 'P', 'Q', 'R', 'S', 'T', 'U', 'V', 'W', 'X', 'Y', 'Z', 'a', 'b', 'c', 'd', 'e', 'f', 'g', 'h', 'i', 'j', 'k', 'l', 'm', 'n', 'o', 'p', 'q', 'r', 's', 't', 'u', 'v', 'w', 'x', 'y', 'z']\n"
          ]
        }
      ],
      "source": [
        "vocab = list(char_vect.get_feature_names_out())\n",
        "print(vocab)"
      ]
    },
    {
      "cell_type": "code",
      "execution_count": null,
      "metadata": {
        "id": "yWMUb6yWCEPZ"
      },
      "outputs": [],
      "source": [
        "n_letters = len(vocab)"
      ]
    },
    {
      "cell_type": "code",
      "execution_count": null,
      "metadata": {
        "id": "_OZgfue-E3i4"
      },
      "outputs": [],
      "source": [
        "classes = train_df[['race_code', 'race']].drop_duplicates().sort_values('race_code').reset_index(drop=True)\n",
        "\n",
        "categories = list(classes['race'])\n",
        "n_categories = len(categories)\n",
        "max_len = train_df['full_name'].str.len().max()"
      ]
    },
    {
      "cell_type": "code",
      "execution_count": null,
      "metadata": {
        "colab": {
          "base_uri": "https://localhost:8080/"
        },
        "id": "BjmzFx7lFz3d",
        "outputId": "395823a7-caab-496b-c68f-11736109f4bd"
      },
      "outputs": [
        {
          "name": "stdout",
          "output_type": "stream",
          "text": [
            "categories - ['other', 'api', 'black', 'hisp', 'white']\n",
            "num categories - 5\n",
            "max name len - 47\n"
          ]
        }
      ],
      "source": [
        "print(f'categories - {categories}')\n",
        "print(f'num categories - {n_categories}')\n",
        "print(f'max name len - {max_len}')"
      ]
    },
    {
      "cell_type": "code",
      "execution_count": null,
      "metadata": {
        "colab": {
          "base_uri": "https://localhost:8080/"
        },
        "id": "IkKW4ZwHHjEn",
        "outputId": "f835d68f-6422-451e-f4ed-6a50c018b4fa"
      },
      "outputs": [
        {
          "name": "stdout",
          "output_type": "stream",
          "text": [
            "tensor([12., 33., 34., 34., 56., 56., 56., 56., 56., 56., 56., 56., 56., 56.,\n",
            "        56., 56., 56., 56., 56., 56., 56., 56., 56., 56., 56., 56., 56., 56.,\n",
            "        56., 56., 56., 56., 56., 56., 56., 56., 56., 56., 56., 56., 56., 56.,\n",
            "        56., 56., 56., 56., 56., 56., 56., 56.])\n",
            "torch.Size([50])\n"
          ]
        }
      ],
      "source": [
        "# Turning names into Tensors\n",
        "\n",
        "all_letters = ''.join(vocab)\n",
        "oob = n_letters + 1\n",
        "\n",
        "# Find char index from all_letters\n",
        "def letterToIndex(letter):\n",
        "  return all_letters.find(letter)\n",
        "\n",
        "# Turn line into a bag of characters\n",
        "def lineToTensor(line):\n",
        "  tensor = torch.ones(50) * oob\n",
        "  for li, letter in enumerate(line):\n",
        "    tensor[li] = letterToIndex(letter)\n",
        "  return tensor\n",
        "\n",
        "# testing helper functions\n",
        "print(lineToTensor('Jeff'))\n",
        "print(lineToTensor('Jeff').size())"
      ]
    },
    {
      "cell_type": "code",
      "execution_count": null,
      "metadata": {
        "id": "seKONOLnMie9"
      },
      "outputs": [],
      "source": [
        "# Custom nameDataset\n",
        "# https://pytorch.org/tutorials/beginner/basics/data_tutorial.html\n",
        "\n",
        "class nameDataset(Dataset):\n",
        "  def __init__(self, data_df, transform=None):\n",
        "    self.data = data_df\n",
        "    self.transform = transform\n",
        "\n",
        "  def __len__(self):\n",
        "    return len(self.data)\n",
        "\n",
        "  def __getitem__(self, idx):\n",
        "    name = self.data.iloc[idx, self.data.columns.get_loc('full_name')]\n",
        "    if self.transform:\n",
        "      name = self.transform(name)\n",
        "    label = self.data.iloc[idx, self.data.columns.get_loc('race_code')]\n",
        "    target = torch.tensor(label, dtype=torch.int64) -1\n",
        "    return name, target\n"
      ]
    },
    {
      "cell_type": "code",
      "execution_count": null,
      "metadata": {
        "id": "Rky21lLjpcRY"
      },
      "outputs": [],
      "source": [
        "train_dataset = nameDataset(train_df, lineToTensor)\n",
        "val_dataset = nameDataset(val_df, lineToTensor)\n",
        "test_dataset = nameDataset(test_df, lineToTensor)"
      ]
    },
    {
      "cell_type": "code",
      "execution_count": null,
      "metadata": {
        "colab": {
          "base_uri": "https://localhost:8080/"
        },
        "id": "CBZuxNKYpq8D",
        "outputId": "8daaa10f-9279-48b8-d23a-fc63bed1287e"
      },
      "outputs": [
        {
          "name": "stdout",
          "output_type": "stream",
          "text": [
            "0 tensor([ 5., 36., 29., 46., 37., 48., 53.,  0.,  8., 49., 33., 42., 48., 33.,\n",
            "        47., 56., 56., 56., 56., 56., 56., 56., 56., 56., 56., 56., 56., 56.,\n",
            "        56., 56., 56., 56., 56., 56., 56., 56., 56., 56., 56., 56., 56., 56.,\n",
            "        56., 56., 56., 56., 56., 56., 56., 56.]) tensor(0)\n",
            "1 tensor([14., 29., 50., 43., 42., 42., 33.,  0., 10., 43., 51., 29., 46., 32.,\n",
            "        56., 56., 56., 56., 56., 56., 56., 56., 56., 56., 56., 56., 56., 56.,\n",
            "        56., 56., 56., 56., 56., 56., 56., 56., 56., 56., 56., 56., 56., 56.,\n",
            "        56., 56., 56., 56., 56., 56., 56., 56.]) tensor(4)\n",
            "2 tensor([15., 33., 46., 37., 47., 42., 33., 53.,  0.,  7., 47., 44., 37., 42.,\n",
            "        43., 47., 29., 56., 56., 56., 56., 56., 56., 56., 56., 56., 56., 56.,\n",
            "        56., 56., 56., 56., 56., 56., 56., 56., 56., 56., 56., 56., 56., 56.,\n",
            "        56., 56., 56., 56., 56., 56., 56., 56.]) tensor(3)\n"
          ]
        }
      ],
      "source": [
        "# testing custom dataset\n",
        "for i in range(3):\n",
        "  name, label = train_dataset[i]\n",
        "  print(i, name, label)"
      ]
    },
    {
      "cell_type": "code",
      "execution_count": null,
      "metadata": {
        "id": "NcogEwGHvmZh"
      },
      "outputs": [],
      "source": [
        "# lscpu -> displays info about the CPU architecture\n",
        "# grep (global regular expression print) -> searches for text patterns or regular expressions matching\n",
        "num_workers = !lscpu | grep \"^CPU(s):\" | awk '{print $2}'\n",
        "num_workers = int(num_workers[0])"
      ]
    },
    {
      "cell_type": "code",
      "execution_count": null,
      "metadata": {
        "id": "WTeZokkAp3Z4"
      },
      "outputs": [],
      "source": [
        "# The Dataset retrieves our dataset’s features and labels one sample at a time.\n",
        "# While training a model, we typically want to pass samples in “minibatches”,\n",
        "# reshuffle the data at every epoch to reduce model overfitting,\n",
        "# and use Python’s multiprocessing to speed up data retrieval.\n",
        "# https://pytorch.org/tutorials/beginner/basics/data_tutorial.html\n",
        "# https://pytorch.org/docs/stable/data.html\n",
        "\n",
        "batch_size=512\n",
        "\n",
        "train_dataloader = DataLoader(train_dataset, batch_size=batch_size, shuffle=True, num_workers=num_workers, drop_last=True)\n",
        "val_dataloader = DataLoader(val_dataset, batch_size=batch_size, shuffle=True, num_workers=num_workers, drop_last=True)\n",
        "test_dataloader = DataLoader(test_dataset, batch_size=batch_size, shuffle=True, num_workers=num_workers, drop_last=True)"
      ]
    },
    {
      "cell_type": "code",
      "execution_count": null,
      "metadata": {
        "colab": {
          "base_uri": "https://localhost:8080/"
        },
        "id": "igUw8FsswJNJ",
        "outputId": "8154dfe6-cc49-417b-d06d-271f0bdd17b7"
      },
      "outputs": [
        {
          "name": "stdout",
          "output_type": "stream",
          "text": [
            "train_features: tensor([[ 6., 37., 29.,  ..., 56., 56., 56.],\n",
            "        [15., 29., 48.,  ..., 56., 56., 56.],\n",
            "        [12., 29., 41.,  ..., 56., 56., 56.],\n",
            "        ...,\n",
            "        [20., 37., 31.,  ..., 56., 56., 56.],\n",
            "        [15., 33., 35.,  ..., 56., 56., 56.],\n",
            "        [ 6., 37., 29.,  ..., 56., 56., 56.]])\n",
            "train_labels: tensor([4, 3, 2, 4, 4, 2, 4, 4, 4, 3, 4, 4, 2, 4, 3, 3, 3, 0, 4, 3, 4, 2, 4, 4,\n",
            "        2, 4, 3, 2, 3, 2, 4, 2, 3, 4, 4, 4, 4, 4, 4, 4, 4, 3, 3, 4, 1, 4, 2, 4,\n",
            "        4, 2, 4, 2, 2, 2, 2, 4, 4, 3, 4, 3, 3, 3, 2, 4, 4, 4, 2, 4, 4, 4, 4, 2,\n",
            "        3, 4, 3, 1, 4, 4, 3, 4, 4, 4, 4, 4, 3, 4, 3, 4, 4, 2, 3, 2, 4, 4, 1, 2,\n",
            "        3, 3, 1, 4, 4, 4, 4, 4, 3, 4, 3, 2, 4, 4, 4, 4, 4, 4, 1, 4, 3, 4, 4, 2,\n",
            "        2, 2, 4, 4, 2, 2, 3, 3, 3, 3, 4, 2, 4, 3, 3, 4, 4, 4, 3, 4, 3, 4, 3, 0,\n",
            "        4, 4, 4, 4, 4, 3, 4, 0, 2, 2, 2, 4, 3, 4, 4, 4, 2, 3, 2, 4, 2, 2, 3, 4,\n",
            "        1, 1, 4, 4, 2, 3, 4, 4, 1, 4, 4, 4, 2, 4, 4, 4, 3, 2, 2, 4, 2, 2, 4, 4,\n",
            "        4, 4, 3, 4, 0, 4, 4, 4, 4, 4, 4, 4, 4, 4, 4, 3, 4, 4, 1, 3, 2, 4, 4, 2,\n",
            "        4, 4, 1, 4, 2, 4, 3, 4, 3, 4, 3, 4, 3, 4, 3, 2, 4, 3, 2, 3, 3, 2, 2, 3,\n",
            "        4, 0, 4, 3, 3, 4, 4, 2, 4, 3, 4, 4, 3, 2, 3, 2, 0, 4, 3, 0, 3, 4, 3, 0,\n",
            "        3, 4, 4, 3, 4, 0, 3, 2, 2, 3, 2, 4, 2, 4, 4, 3, 3, 3, 4, 3, 4, 4, 0, 4,\n",
            "        4, 3, 3, 3, 3, 4, 4, 2, 4, 1, 4, 3, 4, 4, 3, 4, 3, 2, 3, 4, 3, 4, 3, 2,\n",
            "        3, 3, 0, 4, 2, 4, 3, 2, 3, 3, 4, 4, 2, 4, 1, 3, 3, 4, 4, 4, 3, 4, 4, 2,\n",
            "        2, 4, 4, 3, 3, 1, 4, 3, 3, 3, 4, 2, 4, 4, 3, 4, 4, 4, 4, 2, 0, 4, 3, 4,\n",
            "        4, 3, 4, 4, 3, 0, 4, 2, 4, 4, 0, 0, 2, 3, 3, 3, 3, 4, 4, 4, 4, 4, 4, 3,\n",
            "        0, 3, 4, 2, 3, 1, 2, 3, 4, 3, 2, 2, 3, 4, 3, 4, 4, 4, 4, 1, 4, 3, 1, 3,\n",
            "        3, 2, 2, 4, 2, 2, 4, 4, 4, 4, 4, 4, 1, 3, 4, 3, 4, 3, 2, 3, 3, 4, 4, 4,\n",
            "        3, 2, 4, 4, 4, 2, 3, 4, 3, 2, 4, 2, 4, 4, 3, 4, 4, 2, 2, 1, 4, 0, 4, 4,\n",
            "        4, 3, 4, 2, 4, 2, 4, 0, 2, 4, 4, 4, 4, 2, 1, 3, 2, 4, 3, 4, 0, 2, 4, 2,\n",
            "        4, 2, 3, 4, 3, 4, 1, 4, 4, 4, 4, 4, 4, 4, 2, 4, 4, 3, 3, 4, 4, 4, 3, 4,\n",
            "        4, 3, 4, 4, 2, 2, 4, 3])\n"
          ]
        }
      ],
      "source": [
        "# how to iterate through the dataloader (can also use enumerate())\n",
        "# returns two items: train_features, train_labels\n",
        "train_features, train_labels = next(iter(train_dataloader))\n",
        "print(f'train_features: {train_features}')\n",
        "print(f'train_labels: {train_labels}')"
      ]
    },
    {
      "cell_type": "markdown",
      "metadata": {
        "id": "bZS--vhGztFz"
      },
      "source": [
        "#### Define LSTM Model"
      ]
    },
    {
      "cell_type": "code",
      "execution_count": null,
      "metadata": {
        "id": "qdzDaIWOxH6J"
      },
      "outputs": [],
      "source": [
        "# set seed for reproducable results\n",
        "torch.manual_seed(42)\n",
        "device = torch.device('cuda:0' if torch.cuda.is_available() else 'cpu')\n",
        "\n",
        "class lstmnet(nn.Module):\n",
        "  def __init__(self, input_size, output_size, hidden_size, num_layers=1):\n",
        "    super().__init__()\n",
        "\n",
        "    # embedding layer (returns a vector of input_size x 1 x hidden_size)\n",
        "    self.embedding = nn.Embedding(input_size, hidden_size)\n",
        "\n",
        "    # lstm layer params: input_size, output_size, num_layers\n",
        "    self.lstm = nn.LSTM(hidden_size, hidden_size, num_layers, batch_first=True)\n",
        "\n",
        "    self.out = nn.Linear(hidden_size, output_size)\n",
        "\n",
        "    # used to convert the output from a linear layer into a categorical probability distribution\n",
        "    self.softmax = nn.LogSoftmax(dim=1)\n",
        "\n",
        "  def forward(self, x, h):\n",
        "\n",
        "    x = x.to(device)\n",
        "\n",
        "    # embedding layer\n",
        "    embedding = self.embedding(x.type(torch.IntTensor).to(x.device))\n",
        "\n",
        "    # run through the RNN layer\n",
        "    y, h = self.lstm(embedding, h)\n",
        "\n",
        "    # Getting the output of the last time step\n",
        "    y = y[:, -1, :]\n",
        "\n",
        "    # output the linear layer\n",
        "    y = self.out(y)\n",
        "    y = self.softmax(y)\n",
        "\n",
        "    return y, (h[0].detach(), h[1].detach()) # just the numerical values for h\n"
      ]
    },
    {
      "cell_type": "code",
      "execution_count": null,
      "metadata": {
        "id": "jcKraa3b0KHr"
      },
      "outputs": [],
      "source": [
        "hidden_size = 256\n",
        "seq_len = 50\n",
        "num_layers = 2"
      ]
    },
    {
      "cell_type": "code",
      "execution_count": null,
      "metadata": {
        "colab": {
          "base_uri": "https://localhost:8080/"
        },
        "id": "WbaOoJlFCtux",
        "outputId": "a2d5c9ad-9db5-4a98-db02-a849ab3fe004"
      },
      "outputs": [
        {
          "data": {
            "text/plain": [
              "lstmnet(\n",
              "  (embedding): Embedding(57, 256)\n",
              "  (lstm): LSTM(256, 256, num_layers=2, batch_first=True)\n",
              "  (out): Linear(in_features=256, out_features=5, bias=True)\n",
              "  (softmax): LogSoftmax(dim=1)\n",
              ")"
            ]
          },
          "execution_count": 22,
          "metadata": {},
          "output_type": "execute_result"
        }
      ],
      "source": [
        "# model instance\n",
        "rnn = lstmnet(n_letters+2, n_categories, hidden_size, num_layers=num_layers).to(device)\n",
        "rnn"
      ]
    },
    {
      "cell_type": "markdown",
      "metadata": {
        "id": "Der88WEqDmAE"
      },
      "source": [
        "#### Test model with sample data"
      ]
    },
    {
      "cell_type": "code",
      "execution_count": null,
      "metadata": {
        "colab": {
          "base_uri": "https://localhost:8080/"
        },
        "id": "mag9iXLLDgaV",
        "outputId": "9a75d5ac-98de-4c77-fb99-c789d71ce50c"
      },
      "outputs": [
        {
          "name": "stdout",
          "output_type": "stream",
          "text": [
            "tensor([12., 33., 34., 34.,  0.,  4., 33., 54., 43., 47., 56., 56., 56., 56.,\n",
            "        56., 56., 56., 56., 56., 56., 56., 56., 56., 56., 56., 56., 56., 56.,\n",
            "        56., 56., 56., 56., 56., 56., 56., 56., 56., 56., 56., 56., 56., 56.,\n",
            "        56., 56., 56., 56., 56., 56., 56., 56.])\n",
            "x shape :  torch.Size([50])\n",
            "x w batch :  torch.Size([1, 50])\n",
            "torch.Size([1, 5])\n",
            "tensor([[-1.6279, -1.6090, -1.6167, -1.5790, -1.6152]], device='cuda:0',\n",
            "       grad_fn=<LogSoftmaxBackward0>)\n",
            "tensor(3, device='cuda:0')\n",
            "model predicted w/o train - hisp\n"
          ]
        }
      ],
      "source": [
        "x = lineToTensor('Jeff Bezos')\n",
        "\n",
        "print(x)\n",
        "print('x shape : ', x.shape)\n",
        "print('x w batch : ', x.unsqueeze(0).shape)\n",
        "\n",
        "y, h = rnn(x.unsqueeze(0), None)\n",
        "\n",
        "print(y.shape)\n",
        "print(y)\n",
        "print(torch.argmax(y))\n",
        "print(f'model predicted w/o train - {categories[torch.argmax(y).item()]}')"
      ]
    },
    {
      "cell_type": "markdown",
      "metadata": {
        "id": "3DHpkx6aJS2R"
      },
      "source": [
        "#### Training"
      ]
    },
    {
      "cell_type": "code",
      "execution_count": null,
      "metadata": {
        "id": "LspossPTFGR9"
      },
      "outputs": [],
      "source": [
        "epochs = 100\n",
        "lr = 0.0005\n",
        "\n",
        "# loss function and optimizer\n",
        "lossfun = nn.NLLLoss()\n",
        "optimizer = torch.optim.Adam(rnn.parameters(), lr=lr)\n",
        "scheduler = torch.optim.lr_scheduler.CosineAnnealingLR(optimizer, T_max=60, eta_min=1e-5)\n",
        "\n",
        "mb = master_bar(range(epochs))\n",
        "mb.names = ['Training loss', 'Validation loss']"
      ]
    },
    {
      "cell_type": "code",
      "execution_count": 25,
      "metadata": {
        "colab": {
          "base_uri": "https://localhost:8080/",
          "height": 839
        },
        "id": "5Km6Hbq-LEny",
        "outputId": "fe26dfaf-5dd5-483d-c756-01fa71e8c54e"
      },
      "outputs": [
        {
          "data": {
            "text/html": [
              "\n",
              "    <div>\n",
              "      <progress value='34' class='' max='100' style='width:300px; height:20px; vertical-align: middle;'></progress>\n",
              "      34.00% [34/100 8:23:32&lt;16:17:27]\n",
              "    </div>\n",
              "    \n",
              "\n",
              "Epoch 0: Training loss 0.698147, Validation loss 0.599712<p>\n",
              "Epoch 1: Training loss 0.586701, Validation loss 0.579199<p>\n",
              "Epoch 2: Training loss 0.571701, Validation loss 0.570975<p>\n",
              "Epoch 3: Training loss 0.563233, Validation loss 0.566009<p>\n",
              "Epoch 4: Training loss 0.557453, Validation loss 0.563052<p>\n",
              "Epoch 5: Training loss 0.553190, Validation loss 0.560786<p>\n",
              "Epoch 6: Training loss 0.549875, Validation loss 0.558845<p>\n",
              "Epoch 7: Training loss 0.547114, Validation loss 0.558337<p>\n",
              "Epoch 8: Training loss 0.544746, Validation loss 0.557021<p>\n",
              "Epoch 9: Training loss 0.542739, Validation loss 0.556393<p>\n",
              "Epoch 10: Training loss 0.540903, Validation loss 0.555145<p>\n",
              "Epoch 11: Training loss 0.539222, Validation loss 0.555004<p>\n",
              "Epoch 12: Training loss 0.537640, Validation loss 0.555339<p>\n",
              "Epoch 13: Training loss 0.536157, Validation loss 0.554455<p>\n",
              "Epoch 14: Training loss 0.534715, Validation loss 0.553787<p>\n",
              "Epoch 15: Training loss 0.533263, Validation loss 0.553171<p>\n",
              "Epoch 16: Training loss 0.531770, Validation loss 0.553296<p>\n",
              "Epoch 17: Training loss 0.530359, Validation loss 0.552805<p>\n",
              "Epoch 18: Training loss 0.528864, Validation loss 0.552542<p>\n",
              "Epoch 19: Training loss 0.527391, Validation loss 0.552029<p>\n",
              "Epoch 20: Training loss 0.525806, Validation loss 0.551640<p>\n",
              "Epoch 21: Training loss 0.524291, Validation loss 0.551651<p>\n",
              "Epoch 22: Training loss 0.522703, Validation loss 0.551796<p>\n",
              "Epoch 23: Training loss 0.521087, Validation loss 0.550913<p>\n",
              "Epoch 24: Training loss 0.519286, Validation loss 0.550911<p>\n",
              "Epoch 25: Training loss 0.517457, Validation loss 0.550517<p>\n",
              "Epoch 26: Training loss 0.515587, Validation loss 0.550684<p>\n",
              "Epoch 27: Training loss 0.513700, Validation loss 0.550346<p>\n",
              "Epoch 28: Training loss 0.511747, Validation loss 0.550723<p>\n",
              "Epoch 29: Training loss 0.509682, Validation loss 0.550171<p>\n",
              "Epoch 30: Training loss 0.507492, Validation loss 0.550550<p>\n",
              "Epoch 31: Training loss 0.505371, Validation loss 0.550248<p>\n",
              "Epoch 32: Training loss 0.503150, Validation loss 0.550555<p>\n",
              "Epoch 33: Training loss 0.500827, Validation loss 0.551592<p>\n",
              "\n",
              "    <div>\n",
              "      <progress value='3819' class='' max='3819' style='width:300px; height:20px; vertical-align: middle;'></progress>\n",
              "      100.00% [3819/3819 01:33&lt;00:00]\n",
              "    </div>\n",
              "    "
            ],
            "text/plain": [
              "<IPython.core.display.HTML object>"
            ]
          },
          "metadata": {},
          "output_type": "display_data"
        }
      ],
      "source": [
        "losses = np.zeros(epochs)\n",
        "val_losses = np.zeros(epochs)\n",
        "epoch_list = []\n",
        "\n",
        "count=0\n",
        "val_mloss = np.inf\n",
        "\n",
        "\n",
        "# loop over epochs\n",
        "for epoch in mb:\n",
        "\n",
        "  epoch_list.append(epoch)\n",
        "\n",
        "  # initialize loss for this epoch and hidden state\n",
        "  total_loss = 0\n",
        "  hidden_state = None\n",
        "  rnn.train()\n",
        "\n",
        "  for batch in progress_bar(train_dataloader, parent=mb):\n",
        "    x = batch[0].to(device)\n",
        "    y = batch[1].to(device)\n",
        "\n",
        "    # forward pass\n",
        "    output, hidden_state = rnn(x, None)\n",
        "\n",
        "    # compute loss\n",
        "    loss = lossfun(output, y)\n",
        "    total_loss += loss.item()\n",
        "\n",
        "    # backprop\n",
        "    optimizer.zero_grad()\n",
        "    loss.backward()\n",
        "    optimizer.step()\n",
        "\n",
        "  # decay lr\n",
        "  scheduler.step()\n",
        "\n",
        "  # Calculate average loss for the epoch\n",
        "  epoch_loss = total_loss / len(train_dataloader)\n",
        "  losses[epoch] = epoch_loss\n",
        "\n",
        "  # validation loss calulations\n",
        "  rnn.eval()\n",
        "  val_loss = 0\n",
        "  for batch in progress_bar(val_dataloader, parent=mb):\n",
        "    x = batch[0].to(device)\n",
        "    y = batch[1].to(device)\n",
        "\n",
        "    # forward pass\n",
        "    output, hidden_state = rnn(x, None)\n",
        "\n",
        "    # compute loss\n",
        "    loss = lossfun(output, y)\n",
        "    val_loss += loss.item()\n",
        "\n",
        "  # Calculate average loss for the epoch\n",
        "  val_mean_loss = val_loss / len(val_dataloader)\n",
        "  val_losses[epoch] = val_mean_loss\n",
        "  mb.write(f'\\nEpoch {epoch}: Training loss {epoch_loss:.6f}, Validation loss {val_mean_loss:.6f}') # Update progress bar comment\n",
        "\n",
        "  if val_mean_loss < val_mloss:\n",
        "    print(f'\\nValidation loss decreased ({val_mloss:.6f} --> {val_mean_loss:.6f}).  Saving model ...')\n",
        "    val_mloss = val_mean_loss\n",
        "    count = 0\n",
        "    # save model\n",
        "    torch.save(rnn.state_dict(), 'lstm_FullName_pytorch_min_val.pt')\n",
        "  else:\n",
        "    count += 1\n",
        "    if count == 5:\n",
        "      break\n"
      ]
    },
    {
      "cell_type": "code",
      "execution_count": 26,
      "metadata": {
        "id": "wZ_x7WoVVMtF"
      },
      "outputs": [],
      "source": [
        "torch.save(rnn.state_dict(), 'lstm_FullName_pytorch_combined.pt')"
      ]
    },
    {
      "cell_type": "code",
      "execution_count": 29,
      "metadata": {
        "colab": {
          "base_uri": "https://localhost:8080/",
          "height": 559
        },
        "id": "IRUvj_jLF0bU",
        "outputId": "67998c4f-a9cb-45f0-aa01-c1f18e8cc0da"
      },
      "outputs": [
        {
          "data": {
            "text/plain": [
              "Text(0, 0.5, 'loss')"
            ]
          },
          "execution_count": 29,
          "metadata": {},
          "output_type": "execute_result"
        },
        {
          "data": {
            "image/png": "[encoded data removed]",
            "text/plain": [
              "<Figure size 600x600 with 1 Axes>"
            ]
          },
          "metadata": {},
          "output_type": "display_data"
        }
      ],
      "source": [
        "import matplotlib.pyplot as plt\n",
        "\n",
        "fig, ax = plt.subplots(figsize=(6, 6))\n",
        "ax.plot(epoch_list, losses[:35], label='Training Loss')\n",
        "ax.plot(epoch_list, val_losses[:35], label='Validation Loss')\n",
        "ax.legend()\n",
        "plt.xlabel(\"epochs\")\n",
        "plt.ylabel(\"loss\")"
      ]
    },
    {
      "cell_type": "code",
      "execution_count": 31,
      "metadata": {
        "colab": {
          "base_uri": "https://localhost:8080/"
        },
        "id": "7MStDJN0HNaN",
        "outputId": "2e18ed1f-fa5e-489e-f602-00e744058636"
      },
      "outputs": [
        {
          "name": "stdout",
          "output_type": "stream",
          "text": [
            "Training loss: 0.498597294919262\n",
            "Validation loss: 0.550725565691149\n"
          ]
        }
      ],
      "source": [
        "# last epoch loss\n",
        "print(f'Training loss: {losses[34]}')\n",
        "print(f'Validation loss: {val_losses[34]}')"
      ]
    },
    {
      "cell_type": "markdown",
      "metadata": {
        "id": "ks72XxQXU-nn"
      },
      "source": [
        "#### Testing"
      ]
    },
    {
      "cell_type": "code",
      "execution_count": 32,
      "metadata": {
        "colab": {
          "base_uri": "https://localhost:8080/",
          "height": 241
        },
        "id": "d1uJHIR6HS_-",
        "outputId": "dfa3c066-0b03-4ef1-b4f4-e3deaa7a8e2c"
      },
      "outputs": [
        {
          "data": {
            "text/html": [
              "\n",
              "<style>\n",
              "    /* Turns off some styling */\n",
              "    progress {\n",
              "        /* gets rid of default border in Firefox and Opera. */\n",
              "        border: none;\n",
              "        /* Needs to be in here for Safari polyfill so background images work as expected. */\n",
              "        background-size: auto;\n",
              "    }\n",
              "    progress:not([value]), progress:not([value])::-webkit-progress-bar {\n",
              "        background: repeating-linear-gradient(45deg, #7e7e7e, #7e7e7e 10px, #5c5c5c 10px, #5c5c5c 20px);\n",
              "    }\n",
              "    .progress-bar-interrupted, .progress-bar-interrupted::-webkit-progress-bar {\n",
              "        background: #F44336;\n",
              "    }\n",
              "</style>\n"
            ],
            "text/plain": [
              "<IPython.core.display.HTML object>"
            ]
          },
          "metadata": {},
          "output_type": "display_data"
        },
        {
          "data": {
            "text/html": [
              "\n",
              "    <div>\n",
              "      <progress value='3819' class='' max='3819' style='width:300px; height:20px; vertical-align: middle;'></progress>\n",
              "      100.00% [3819/3819 03:45&lt;00:00]\n",
              "    </div>\n",
              "    "
            ],
            "text/plain": [
              "<IPython.core.display.HTML object>"
            ]
          },
          "metadata": {},
          "output_type": "display_data"
        },
        {
          "name": "stdout",
          "output_type": "stream",
          "text": [
            "              precision    recall  f1-score   support\n",
            "\n",
            "         api       0.73      0.66      0.70     58128\n",
            "       black       0.77      0.70      0.74    392277\n",
            "        hisp       0.87      0.91      0.89    488746\n",
            "       other       0.44      0.07      0.12     77037\n",
            "       white       0.82      0.89      0.85    939140\n",
            "\n",
            "    accuracy                           0.82   1955328\n",
            "   macro avg       0.73      0.65      0.66   1955328\n",
            "weighted avg       0.80      0.82      0.80   1955328\n",
            "\n"
          ]
        }
      ],
      "source": [
        "from sklearn.metrics import confusion_matrix, classification_report, ConfusionMatrixDisplay\n",
        "\n",
        "test_loss = 0.0\n",
        "\n",
        "class_correct = [0.0 for _ in range(n_categories)]\n",
        "class_total = [0.0 for _ in range(n_categories)]\n",
        "\n",
        "actual = []\n",
        "predictions = []\n",
        "\n",
        "rnn.eval()\n",
        "\n",
        "pbar = progress_bar(test_dataloader)\n",
        "for batch in pbar:\n",
        "  x = batch[0].to(device)\n",
        "  y = batch[1].to(device)\n",
        "\n",
        "  output, hidden_state = rnn(x, None)\n",
        "\n",
        "  # sum up batch loss\n",
        "  loss = lossfun(output, y)\n",
        "  test_loss += loss.item()\n",
        "\n",
        "  # convert output probabilities to predicted class\n",
        "  pred = torch.argmax(output, dim=1)\n",
        "\n",
        "  # compare predictions to true label\n",
        "  correct_tensor = pred.eq(y.data.view_as(pred))\n",
        "  correct = np.squeeze(correct_tensor.numpy()) if not torch.cuda.is_available() else np.squeeze(correct_tensor.cpu().numpy())\n",
        "\n",
        "  # calculate test accuracy\n",
        "  for i in range(y.shape[0]):\n",
        "    l = y[i].detach()\n",
        "    class_correct[l] += correct[i].item()\n",
        "    class_total[l] += 1\n",
        "\n",
        "    actual.append(categories[l])\n",
        "    predictions.append(categories[pred[i].detach()])\n",
        "\n",
        "# classification report\n",
        "print(classification_report(actual, predictions))\n"
      ]
    },
    {
      "cell_type": "code",
      "execution_count": 33,
      "metadata": {
        "colab": {
          "base_uri": "https://localhost:8080/",
          "height": 449
        },
        "id": "-PQ8Cb3Od_W_",
        "outputId": "8763c718-1be6-40ff-90a2-2774325e1840"
      },
      "outputs": [
        {
          "data": {
            "image/png": "[encoded data removed]",
            "text/plain": [
              "<Figure size 640x480 with 2 Axes>"
            ]
          },
          "metadata": {},
          "output_type": "display_data"
        }
      ],
      "source": [
        "# plot confusion matrix\n",
        "\n",
        "cm = confusion_matrix(actual, predictions, labels=categories)\n",
        "disp = ConfusionMatrixDisplay(confusion_matrix=cm, display_labels=categories)\n",
        "disp.plot()\n",
        "plt.show()"
      ]
    },
    {
      "cell_type": "code",
      "execution_count": 34,
      "metadata": {
        "colab": {
          "base_uri": "https://localhost:8080/"
        },
        "id": "BbvVo6lLeSFs",
        "outputId": "5386452a-5722-4a76-85e3-85e4372a8b8b"
      },
      "outputs": [
        {
          "name": "stdout",
          "output_type": "stream",
          "text": [
            "Test loss: 0.552714985354654\n"
          ]
        }
      ],
      "source": [
        "print(f'Test loss: {test_loss / len(test_dataloader)}')"
      ]
    },
    {
      "cell_type": "code",
      "execution_count": 35,
      "metadata": {
        "colab": {
          "base_uri": "https://localhost:8080/"
        },
        "id": "FpY43MSFeoAV",
        "outputId": "8d6d8ab6-774d-4553-8720-80d961545186"
      },
      "outputs": [
        {
          "name": "stdout",
          "output_type": "stream",
          "text": [
            "Test Accuracy of other: 6.994041824058569% (5388.0/77037.0)\n",
            "\n",
            "Test Accuracy of api: 66.46194605009634% (38633.0/58128.0)\n",
            "\n",
            "Test Accuracy of black: 70.22537645592273% (275478.0/392277.0)\n",
            "\n",
            "Test Accuracy of hisp: 90.99839180269505% (444751.0/488746.0)\n",
            "\n",
            "Test Accuracy of white: 88.96160316885661% (835474.0/939140.0)\n",
            "\n",
            "Test Accuracy of all: 81.81358830845771% (1599724.0/1955328.0)\n"
          ]
        }
      ],
      "source": [
        "for i in range(len(categories)):\n",
        "  print(f'Test Accuracy of {categories[i]}: {100 * class_correct[i] / class_total[i]}% ({class_correct[i]}/{class_total[i]})')\n",
        "  print()\n",
        "print(f'Test Accuracy of all: {100 * np.sum(class_correct) / np.sum(class_total)}% ({np.sum(class_correct)}/{np.sum(class_total)})')"
      ]
    },
    {
      "cell_type": "code",
      "execution_count": null,
      "metadata": {
        "id": "952twtOEgJFf"
      },
      "outputs": [],
      "source": []
    }
  ],
  "metadata": {
    "accelerator": "GPU",
    "colab": {
      "machine_shape": "hm",
      "provenance": []
    },
    "kernelspec": {
      "display_name": "Python 3",
      "name": "python3"
    },
    "language_info": {
      "name": "python"
    }
  },
  "nbformat": 4,
  "nbformat_minor": 0
}
